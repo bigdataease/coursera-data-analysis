{
  "nbformat": 4,
  "nbformat_minor": 0,
  "metadata": {
    "colab": {
      "name": "derekppb.ipynb",
      "provenance": [],
      "collapsed_sections": [],
      "authorship_tag": "ABX9TyMwqCLN30YYilsPtoX1qURO",
      "include_colab_link": true
    },
    "kernelspec": {
      "name": "python3",
      "display_name": "Python 3"
    }
  },
  "cells": [
    {
      "cell_type": "markdown",
      "metadata": {
        "id": "view-in-github",
        "colab_type": "text"
      },
      "source": [
        "<a href=\"https://colab.research.google.com/github/bigdataease/coursera-data-analysis/blob/master/derekppb.ipynb\" target=\"_parent\"><img src=\"https://colab.research.google.com/assets/colab-badge.svg\" alt=\"Open In Colab\"/></a>"
      ]
    },
    {
      "cell_type": "markdown",
      "metadata": {
        "id": "OvYLcQz9Op5z",
        "colab_type": "text"
      },
      "source": [
        "User Input and Math Functions"
      ]
    },
    {
      "cell_type": "markdown",
      "metadata": {
        "id": "r1DELEi_zsjs",
        "colab_type": "text"
      },
      "source": [
        ""
      ]
    },
    {
      "cell_type": "markdown",
      "metadata": {
        "id": "KozLmuNxzwrq",
        "colab_type": "text"
      },
      "source": [
        ""
      ]
    },
    {
      "cell_type": "code",
      "metadata": {
        "id": "Oc-lGDumK0fu",
        "colab_type": "code",
        "outputId": "4729f9d6-9e43-43b6-b7aa-de27507188c1",
        "colab": {
          "base_uri": "https://localhost:8080/",
          "height": 51
        }
      },
      "source": [
        "name  = input(\"What is your name?\")\n",
        "print(name)"
      ],
      "execution_count": 0,
      "outputs": [
        {
          "output_type": "stream",
          "text": [
            "What is your name?Elizabeth the Great!\n",
            "Elizabeth the Great!\n"
          ],
          "name": "stdout"
        }
      ]
    },
    {
      "cell_type": "code",
      "metadata": {
        "id": "L91ZZiavP2Gk",
        "colab_type": "code",
        "outputId": "64fe22f9-1e71-400d-c6b4-127a8ca8d3bf",
        "colab": {
          "base_uri": "https://localhost:8080/",
          "height": 119
        }
      },
      "source": [
        "num1, num2 = input(\"Enter 2 numbers, Ok?: \").split()\n",
        "num1 = int(num1)\n",
        "num2 = int(num2)\n",
        "sum1 = (num1 + num2)\n",
        "difference = num1 - num2\n",
        "product = num1 * num2\n",
        "quotient = num1 / num2\n",
        "remainder = num1 % num2\n",
        "print(\"{} + {} = {}\".format(num1,num2, sum1))\n",
        "print(\"{} - {} = {}\".format(num1,num2, difference))\n",
        "print(\"{} * {} = {}\".format(num1,num2, product))\n",
        "print(\"{} / {} = {}\".format(num1,num2, quotient))\n",
        "print(\"{} % {} = {}\".format(num1,num2, remainder))"
      ],
      "execution_count": 0,
      "outputs": [
        {
          "output_type": "stream",
          "text": [
            "Enter 2 numbers, Ok?: 55 10\n",
            "55 + 10 = 65\n",
            "55 - 10 = 45\n",
            "55 * 10 = 550\n",
            "55 / 10 = 5.5\n",
            "55 % 10 = 5\n"
          ],
          "name": "stdout"
        }
      ]
    },
    {
      "cell_type": "markdown",
      "metadata": {
        "id": "7zJySFpATzSS",
        "colab_type": "text"
      },
      "source": [
        "Problem: change miles to kilometers\n",
        "**bold text**"
      ]
    },
    {
      "cell_type": "code",
      "metadata": {
        "id": "tx2K6W07UEZs",
        "colab_type": "code",
        "outputId": "c4417daa-568b-4b5a-bb42-13cda91883b5",
        "colab": {
          "base_uri": "https://localhost:8080/",
          "height": 51
        }
      },
      "source": [
        "nmiles = int(input(\"Enter number of miles: \"))\n",
        "totkm = nmiles *1.60934\n",
        "print(\"{} miles is {} kilometers\".format(nmiles,totkm))"
      ],
      "execution_count": 0,
      "outputs": [
        {
          "output_type": "stream",
          "text": [
            "Enter number of miles: 5\n",
            "5 miles is 8.0467 kilometers\n"
          ],
          "name": "stdout"
        }
      ]
    },
    {
      "cell_type": "markdown",
      "metadata": {
        "id": "-0o3gK6Wz1PC",
        "colab_type": "text"
      },
      "source": [
        "**Conditioinal Operators**"
      ]
    },
    {
      "cell_type": "code",
      "metadata": {
        "id": "SwV0EmN3z6fR",
        "colab_type": "code",
        "colab": {
          "base_uri": "https://localhost:8080/",
          "height": 51
        },
        "outputId": "ee3d5bc0-4607-4f49-8323-93e03ee750db"
      },
      "source": [
        "drink = input(\"Pick one(Coke or Pepsi)\")\n",
        "if drink == \"Coke\":\n",
        "  print(\"Here is your Coke\")\n",
        "elif drink == \"Pepsi\":\n",
        "  print(\"here is your Pepsi\")\n",
        "else:\n",
        "  print(\"Here is your water\")"
      ],
      "execution_count": 4,
      "outputs": [
        {
          "output_type": "stream",
          "text": [
            "Pick one(Coke or Pepsi)Root Beer\n",
            "Here is your water\n"
          ],
          "name": "stdout"
        }
      ]
    },
    {
      "cell_type": "markdown",
      "metadata": {
        "id": "g5qhR1f61kVC",
        "colab_type": "text"
      },
      "source": [
        "**Create a simple calculator**"
      ]
    },
    {
      "cell_type": "code",
      "metadata": {
        "id": "nYKWYl_R1pxr",
        "colab_type": "code",
        "colab": {
          "base_uri": "https://localhost:8080/",
          "height": 51
        },
        "outputId": "f7e59aa3-9b4b-45fd-f69c-1439e5e90645"
      },
      "source": [
        "operand1, mathop, operand2 = input(\"Enter the calculation: \").split()\n",
        "operand1 = int(operand1)\n",
        "operand2 = int(operand2)\n",
        "\n",
        "if mathop == \"+\":\n",
        "  print(\"{} + {} = {}\".format(operand1, operand2, operand1 + operand2))\n",
        "elif mathop == \"-\":\n",
        "  print(\"{} - {} = {}\".format(operand1, operand2, operand1 - operand2))\n",
        "elif mathop == \"*\":\n",
        "  print(\"{} * {} = {}\".format(operand1, operand2, operand1 * operand2))\n",
        "elif mathop == \"/\":\n",
        "  print(\"{} / {} = {}\".format(operand1, operand2, operand1 / operand2))\n",
        "\n",
        "else:\n",
        "  print(\"You can only use, + - * /. Please try again\")"
      ],
      "execution_count": 24,
      "outputs": [
        {
          "output_type": "stream",
          "text": [
            "Enter the calculation: 42 / 8\n",
            "42 / 8 = 5.25\n"
          ],
          "name": "stdout"
        }
      ]
    }
  ]
}